{
  "nbformat": 4,
  "nbformat_minor": 0,
  "metadata": {
    "colab": {
      "provenance": [],
      "authorship_tag": "ABX9TyN2slmopKC/imhqYvFJI+aH",
      "include_colab_link": true
    },
    "kernelspec": {
      "name": "python3",
      "display_name": "Python 3"
    },
    "language_info": {
      "name": "python"
    }
  },
  "cells": [
    {
      "cell_type": "markdown",
      "metadata": {
        "id": "view-in-github",
        "colab_type": "text"
      },
      "source": [
        "<a href=\"https://colab.research.google.com/github/Tommy3072/MineriaDeDatos/blob/main/Taller6.ipynb\" target=\"_parent\"><img src=\"https://colab.research.google.com/assets/colab-badge.svg\" alt=\"Open In Colab\"/></a>"
      ]
    },
    {
      "cell_type": "code",
      "execution_count": 6,
      "metadata": {
        "colab": {
          "base_uri": "https://localhost:8080/"
        },
        "id": "MX-ozwZL-znF",
        "outputId": "2d688162-63cb-456d-f993-a35b036b676b"
      },
      "outputs": [
        {
          "output_type": "stream",
          "name": "stdout",
          "text": [
            "     balance_control  duracion_prestamo  historial_credito  proposito  monto  \\\n",
            "0                  1                  6                  4          8   1169   \n",
            "1                  2                 48                  1          8   5951   \n",
            "2                  4                 12                  4          5   2096   \n",
            "3                  1                 42                  1          6   7882   \n",
            "4                  1                 24                  5          2   4870   \n",
            "..               ...                ...                ...        ...    ...   \n",
            "995                4                 12                  1          6   1736   \n",
            "996                1                 30                  1          3   3857   \n",
            "997                4                 12                  1          8    804   \n",
            "998                1                 45                  1          8   1845   \n",
            "999                2                 45                  4          3   4576   \n",
            "\n",
            "     saldo_ahorro  longitud_empleo  tasa_instalacion  estado_personal  \\\n",
            "0               5                1                 4                4   \n",
            "1               1                3                 2                2   \n",
            "2               1                4                 2                4   \n",
            "3               1                4                 2                4   \n",
            "4               1                3                 3                4   \n",
            "..            ...              ...               ...              ...   \n",
            "995             1                4                 3                2   \n",
            "996             1                3                 4                1   \n",
            "997             1                1                 4                4   \n",
            "998             1                3                 4                4   \n",
            "999             3                5                 3                4   \n",
            "\n",
            "     otros_deudores  ...  propiedad  edad  plan_instalacion  alojamiento  \\\n",
            "0                 3  ...          3    67                 2            2   \n",
            "1                 3  ...          3    22                 2            2   \n",
            "2                 3  ...          3    49                 2            2   \n",
            "3                 2  ...          1    45                 2            1   \n",
            "4                 3  ...          4    53                 2            1   \n",
            "..              ...  ...        ...   ...               ...          ...   \n",
            "995               3  ...          3    31                 2            2   \n",
            "996               3  ...          1    40                 2            2   \n",
            "997               3  ...          2    38                 2            2   \n",
            "998               3  ...          4    23                 2            1   \n",
            "999               3  ...          2    27                 2            2   \n",
            "\n",
            "     creditos_existentes  dependientes  telefono  trabajador_extranjero  \\\n",
            "0                      2             1         2                      2   \n",
            "1                      1             1         1                      2   \n",
            "2                      1             2         1                      2   \n",
            "3                      1             2         1                      2   \n",
            "4                      2             2         1                      2   \n",
            "..                   ...           ...       ...                    ...   \n",
            "995                    1             1         1                      2   \n",
            "996                    1             1         2                      2   \n",
            "997                    1             1         1                      2   \n",
            "998                    1             1         2                      2   \n",
            "999                    1             1         1                      2   \n",
            "\n",
            "     trabajo  incumplimiento  \n",
            "0          2               1  \n",
            "1          2               2  \n",
            "2          4               1  \n",
            "3          2               1  \n",
            "4          2               2  \n",
            "..       ...             ...  \n",
            "995        4               1  \n",
            "996        1               1  \n",
            "997        2               1  \n",
            "998        2               2  \n",
            "999        2               1  \n",
            "\n",
            "[1000 rows x 21 columns]\n",
            "R² (score): 0.5010884091509822\n",
            "Coeficientes: [ -26.52255606  151.39811022   35.1779013    18.47212245   57.42686253\n",
            "   88.2242752  -810.40345336   85.58467799]\n",
            "Intercepto: 1367.8462140860865\n",
            "Predicción del monto para nuevo cliente: 3765.22\n"
          ]
        },
        {
          "output_type": "stream",
          "name": "stderr",
          "text": [
            "/usr/local/lib/python3.10/dist-packages/sklearn/base.py:465: UserWarning: X does not have valid feature names, but LinearRegression was fitted with feature names\n",
            "  warnings.warn(\n"
          ]
        },
        {
          "output_type": "execute_result",
          "data": {
            "text/plain": [
              "798750747755"
            ]
          },
          "metadata": {},
          "execution_count": 6
        }
      ],
      "source": [
        "import numpy as np\n",
        "import pandas as pd\n",
        "from sklearn.linear_model import LinearRegression\n",
        "\n",
        "# Cargar el dataset\n",
        "df = pd.read_csv(\"credito.csv\")\n",
        "print(df)\n",
        "\n",
        "# Definir las variables independientes (X) y dependiente (y)\n",
        "X = df[[\"balance_control\", \"duracion_prestamo\", \"historial_credito\", \"edad\",\n",
        "        \"saldo_ahorro\", \"longitud_empleo\", \"tasa_instalacion\", \"creditos_existentes\"]]\n",
        "y = df[\"monto\"]\n",
        "\n",
        "# Crear el modelo de regresión lineal y entrenarlo\n",
        "reg = LinearRegression().fit(X, y)\n",
        "\n",
        "# Evaluar el modelo\n",
        "print(f\"R² (score): {reg.score(X, y)}\")\n",
        "print(f\"Coeficientes: {reg.coef_}\")\n",
        "print(f\"Intercepto: {reg.intercept_}\")\n",
        "\n",
        "# Realizar una predicción para un conjunto específico de valores\n",
        "nueva_prediccion = np.array([[1, 24, 4, 35, 3, 2, 3, 1]])  # Valores arbitrarios de prueba\n",
        "prediccion = reg.predict(nueva_prediccion)\n",
        "print(f\"Predicción del monto para nuevo cliente: {prediccion[0]:.2f}\")\n",
        "\n",
        "#https://codeburst.io/multiple-linear-regression-sklearn-and-statsmodels-\n",
        "798750747755\n"
      ]
    }
  ]
}