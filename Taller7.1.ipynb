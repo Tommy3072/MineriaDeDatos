{
  "nbformat": 4,
  "nbformat_minor": 0,
  "metadata": {
    "colab": {
      "provenance": [],
      "authorship_tag": "ABX9TyMXILkmF4g49Hf8ddreYNrA",
      "include_colab_link": true
    },
    "kernelspec": {
      "name": "python3",
      "display_name": "Python 3"
    },
    "language_info": {
      "name": "python"
    }
  },
  "cells": [
    {
      "cell_type": "markdown",
      "metadata": {
        "id": "view-in-github",
        "colab_type": "text"
      },
      "source": [
        "<a href=\"https://colab.research.google.com/github/Tommy3072/MineriaDeDatos/blob/main/Taller7.1.ipynb\" target=\"_parent\"><img src=\"https://colab.research.google.com/assets/colab-badge.svg\" alt=\"Open In Colab\"/></a>"
      ]
    },
    {
      "cell_type": "code",
      "source": [
        "import pandas as pd\n",
        "from sklearn.linear_model import LogisticRegression\n",
        "from sklearn.model_selection import train_test_split\n",
        "from sklearn.metrics import classification_report, confusion_matrix\n",
        "from sklearn.metrics import confusion_matrix, ConfusionMatrixDisplay\n",
        "import matplotlib.pyplot as plt\n",
        "from sklearn.linear_model import LogisticRegressionCV\n",
        "df = pd.read_csv(\"credito.csv\")\n",
        "print(df)\n",
        "X = df[[\"balance_control\", \"duracion_prestamo\", \"historial_credito\", \"edad\",\n",
        "        \"saldo_ahorro\", \"longitud_empleo\", \"tasa_instalacion\", \"creditos_existentes\"]]\n",
        "y = df[\"monto\"]\n",
        "'''\n",
        "Framework heldout y lo que haremos es dividir el dataset en\n",
        "60% training\n",
        "40% evaluar (temp) => 20% evaluacion y 20% test\n",
        "'''\n",
        "x_train, x_temp, y_train, y_temp =\n",
        "train_test_split(X,y,test_size=0.4,train_size=0.6)\n",
        "x_test, x_eval, y_test, y_eval = train_test_split(x_temp,y_temp,test_size =\n",
        "0.5,train_size =0.5)\n",
        "print (len(x_train))\n",
        "print (x_train)\n",
        "print (len(x_eval))\n",
        "print (x_eval)\n",
        "print (len(x_test))\n",
        "print (x_test)\n",
        "#Me genera el modelo es decir entreno ... ok????\n",
        "model = LogisticRegression(solver='liblinear', random_state=0).fit(x_train,\n",
        "y_train)\n",
        "print (str(model.classes_))\n",
        "print (y)\n",
        "#Despues de entrenar el modelo, yo voy a ver como le va en el de evaluacion (20%)\n",
        "print (str(model.predict_proba(x_eval)))\n",
        "print (str(model.predict(x_eval)))\n",
        "cm_1 = confusion_matrix(y_eval, model.predict(x_eval), labels=model.classes_)\n",
        "#esta funcion construye el grafico de la matriz de confusion\n",
        "disp = ConfusionMatrixDisplay(confusion_matrix=cm_1,display_labels=model.classes_)\n",
        "disp.plot(cmap=plt.cm.Blues,values_format='d')\n",
        "plt.tight_layout()\n",
        "#Graba el grafico en un archivo\n",
        "plt.savefig(\"lr-eval.png\")\n",
        "#te imprime por pantalla la matriz de confusion\n",
        "print (str(cm_1))\n",
        "#te imprime las metricas: recall, precision, accuracy\n",
        "print(classification_report(y_eval, model.predict(x_eval)))\n",
        "#print (str(model.predict_proba(x_test)))\n",
        "#print (str(model.predict(x_test)))\n",
        "cm_2 = confusion_matrix(y_test, model.predict(x_test), labels=model.classes_)\n",
        "disp = ConfusionMatrixDisplay(confusion_matrix=cm_2,display_labels=model.classes_)\n",
        "disp.plot(cmap=plt.cm.Blues,values_format='d')\n",
        "plt.tight_layout()\n",
        "plt.savefig(\"lr-test.png\")\n",
        "print (str(cm_2))\n",
        "print(classification_report(y_test, model.predict(x_test)))\n",
        "#Cross-validation n=5 [este \"n\" es el mismo de las ponencias, numero de folds]\n",
        "#Se le pasa el dataset complet, no es necesario dividirlo\n",
        "cv_model = LogisticRegressionCV(cv=5, random_state=0).fit(X, y)\n",
        "#print (str(cv_model.predict(X)))\n",
        "#print (str(cv_model.predict_proba(X)))\n",
        "#print (str(cv_model.score(X,y)))\n",
        "cm_cv = confusion_matrix(y, model.predict(X), labels=model.classes_)\n",
        "disp = ConfusionMatrixDisplay(confusion_matrix=cm_cv,display_labels=model.classes_)\n",
        "disp.plot(cmap=plt.cm.Blues,values_format='d')\n",
        "plt.tight_layout()\n",
        "plt.savefig(\"lr-cv.png\")\n",
        "print (str(cm_cv))\n",
        "print(classification_report(y, model.predict(X)))"
      ],
      "metadata": {
        "colab": {
          "base_uri": "https://localhost:8080/",
          "height": 110
        },
        "id": "F6u-Aj5fv4tS",
        "outputId": "7e75fcbc-51bf-4bd8-ab93-fd03d316a175"
      },
      "execution_count": 5,
      "outputs": [
        {
          "output_type": "error",
          "ename": "SyntaxError",
          "evalue": "invalid syntax (<ipython-input-5-a1c3f51706be>, line 18)",
          "traceback": [
            "\u001b[0;36m  File \u001b[0;32m\"<ipython-input-5-a1c3f51706be>\"\u001b[0;36m, line \u001b[0;32m18\u001b[0m\n\u001b[0;31m    x_train, x_temp, y_train, y_temp =\u001b[0m\n\u001b[0m                                      ^\u001b[0m\n\u001b[0;31mSyntaxError\u001b[0m\u001b[0;31m:\u001b[0m invalid syntax\n"
          ]
        }
      ]
    }
  ]
}